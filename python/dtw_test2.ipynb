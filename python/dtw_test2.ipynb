{
 "cells": [
  {
   "cell_type": "markdown",
   "metadata": {},
   "source": [
    "# Dynamic Time Warping (DTW)\n",
    "DTW distance between two samples."
   ]
  },
  {
   "cell_type": "code",
   "execution_count": 1,
   "metadata": {},
   "outputs": [],
   "source": [
    "import numpy as np\n",
    "import matplotlib.pyplot as plt\n",
    "from numpy import pi"
   ]
  },
  {
   "cell_type": "code",
   "execution_count": 2,
   "metadata": {},
   "outputs": [],
   "source": [
    "def DTW(s, t, w = -1):\n",
    "    '''\n",
    "    Dynamic time warping of two signals\n",
    "    Python version by Seung-Chan Kim\n",
    "    '''\n",
    "    s = np.ravel(s) \n",
    "    t = np.ravel(t)\n",
    "    #print(np.shape(s)) #(100,)\n",
    "    #print(np.shape(t))\n",
    "    ns = np.shape(s)[-1]\n",
    "    nt = np.shape(t)[-1]\n",
    " \n",
    "    if w<0:\n",
    "        w = nt //10\n",
    "        \n",
    "    w = np.max(w, np.abs(ns-nt)); # adapt window size\n",
    "    \n",
    "    # cache matrix\n",
    "    D= np.ones( (ns+1,nt+1)) *-1\n",
    "    \n",
    "    D[0][0] = 0\n",
    "    \n",
    "    # Begin dynamic programming\n",
    "    for i in range(ns):\n",
    "        ii = i+1\n",
    "        \n",
    "        j1 = np.max((ii-w,1))\n",
    "        j2 = np.min((ii+w,nt))\n",
    "        \n",
    "        jw = j2 - j1#+1\n",
    "        \n",
    "        for j in range(jw):\n",
    "            jj = j+j1\n",
    "            cost= np.sqrt ((s[i]-t[jj-1])*(s[i]-t[jj-1]))\n",
    "            \n",
    "            temp=D[ii-1][jj]\n",
    "            if D[ii][jj-1]!=-1:\n",
    "                if temp==-1 or D[ii][jj-1]<temp :\n",
    "                    temp=D[ii][jj-1]\n",
    "                    \n",
    "            if D[ii-1][jj-1]!=-1:\n",
    "                if temp==-1 or D[ii-1][jj-1]<temp: \n",
    "                    temp=D[ii-1][jj-1]\n",
    "                    \n",
    "            D[ii][jj]=cost+temp\n",
    "            # D(i+1,j+1)=oost+min( [D(i,j+1), D(i+1,j), D(i,j)] );\n",
    "            \n",
    "    # resulting distance\n",
    "    d=D[ns-1][nt-1]\n",
    "    \n",
    "    return d"
   ]
  },
  {
   "cell_type": "code",
   "execution_count": 12,
   "metadata": {},
   "outputs": [],
   "source": [
    "def DTW2(s, t, w = -1):\n",
    "    '''\n",
    "    Dynamic time warping of two signals\n",
    "    Python version by Seung-Chan Kim\n",
    "    '''\n",
    "    s = np.ravel(s) \n",
    "    t = np.ravel(t)\n",
    "    #print(np.shape(s)) #(100,)\n",
    "    #print(np.shape(t))\n",
    "    ns = np.shape(s)[-1]\n",
    "    nt = np.shape(t)[-1]\n",
    " \n",
    "    if w<0:\n",
    "        w = nt //10\n",
    "        \n",
    "    w = np.max(w, np.abs(ns-nt)); # adapt window size\n",
    "    \n",
    "    # cache matrix\n",
    "    D= np.zeros( (ns+1,nt+1)) + np.Inf\n",
    "    \n",
    "    D[0][0] = 0\n",
    "    \n",
    "    # Begin dynamic programming\n",
    "    for i in range(ns):\n",
    "        ii = i+1\n",
    "        \n",
    "        j1 = np.max((ii-w,1))\n",
    "        j2 = np.min((ii+w,nt))\n",
    "        \n",
    "        jw = j2 - j1#+1\n",
    "        \n",
    "        for j in range(jw):\n",
    "            jj = j+j1\n",
    "            cost= np.sqrt ((s[i]-t[jj-1])*(s[i]-t[jj-1]))\n",
    "            \n",
    "            temp = np.min((D[ii-1,jj], D[ii,jj-1], D[ii-1, jj-1]))\n",
    "            D[ii][jj]=cost+temp\n",
    "            # D(i+1,j+1)=oost+min( [D(i,j+1), D(i+1,j), D(i,j)] );\n",
    "            \n",
    "    # resulting distance\n",
    "    d=D[ns-1][nt-1]\n",
    "    \n",
    "    return d#, D"
   ]
  },
  {
   "cell_type": "markdown",
   "metadata": {},
   "source": [
    "```\n",
    "D=zeros(ns+1,nt+1)+Inf; % cache matrix\n",
    "D(1,1)=0;\n",
    "...\n",
    "%% begin dynamic programming\n",
    "for i=1:ns\n",
    "    for j=max(i-w,1):min(i+w,nt)\n",
    "        oost=norm(s(i,:)-t(j,:));\n",
    "        D(i+1,j+1)=oost+min( [D(i,j+1), D(i+1,j), D(i,j)] );\n",
    "        \n",
    "    end\n",
    "end\n",
    "```"
   ]
  },
  {
   "cell_type": "code",
   "execution_count": 4,
   "metadata": {},
   "outputs": [
    {
     "data": {
      "text/plain": [
       "Text(0.5, 1.0, 'DTW cost =66.276 66.276')"
      ]
     },
     "execution_count": 4,
     "metadata": {},
     "output_type": "execute_result"
    },
    {
     "data": {
      "image/png": "[encoded data removed]",
      "text/plain": [
       "<Figure size 432x288 with 1 Axes>"
      ]
     },
     "metadata": {
      "needs_background": "light"
     },
     "output_type": "display_data"
    }
   ],
   "source": [
    "## A noisy sine wave as query\n",
    "idx = np.linspace(0,2*pi,num=100)\n",
    "r = np.random.uniform(size=100)/10.0\n",
    "query = np.sin(idx) + r\n",
    "\n",
    "## A cosine is for template; sin and cos are offset by 25 samples\n",
    "template = np.cos(idx)\n",
    "d = DTW(query, template)\n",
    "d2 = DTW2(query, template)\n",
    "plt.figure()\n",
    "plt.plot(idx, template)\n",
    "plt.plot(idx, query)\n",
    "plt.title('DTW cost ={:.3f} {:.3f}'.format(d, d2))"
   ]
  },
  {
   "cell_type": "code",
   "execution_count": 5,
   "metadata": {},
   "outputs": [],
   "source": [
    "outDir = 'dtwout'"
   ]
  },
  {
   "cell_type": "code",
   "execution_count": 6,
   "metadata": {},
   "outputs": [],
   "source": [
    "import os\n",
    "if not os.path.exists(outDir):\n",
    "    os.makedirs(outDir)"
   ]
  },
  {
   "cell_type": "code",
   "execution_count": 11,
   "metadata": {},
   "outputs": [],
   "source": [
    "template = np.sin(idx)\n",
    "ndiv = 100\n",
    "vcost =[]\n",
    "for i in range(ndiv):\n",
    "    query = np.sin(idx + 2*pi* i/ndiv)\n",
    "    d = DTW(query, template)\n",
    "    \n",
    "    d2 = DTW2(query, template) \n",
    "    #d2, D = DTW2(query, template) \n",
    "    #np.savetxt(os.path.join(outDir, 'match_{:02d}.txt'.format(i)), D,  fmt = '%.3f', delimiter = '\\t',)\n",
    "    vcost.append(d)\n",
    "    \n",
    "    fig = plt.figure()\n",
    "    plt.plot(template)\n",
    "    plt.plot(query)\n",
    "    plt.title('DTW cost ={:.3f} {:.3f}'.format(d, d2))\n",
    "    \n",
    "    plt.savefig(os.path.join(outDir, 'dtw_{:02d}.png'.format(i)))\n",
    "    plt.close()"
   ]
  },
  {
   "cell_type": "code",
   "execution_count": 8,
   "metadata": {},
   "outputs": [
    {
     "data": {
      "text/plain": [
       "[<matplotlib.lines.Line2D at 0x7f40d834a400>]"
      ]
     },
     "execution_count": 8,
     "metadata": {},
     "output_type": "execute_result"
    },
    {
     "data": {
      "image/png": "[encoded data removed]",
      "text/plain": [
       "<Figure size 432x288 with 1 Axes>"
      ]
     },
     "metadata": {
      "needs_background": "light"
     },
     "output_type": "display_data"
    }
   ],
   "source": [
    "plt.plot(vcost)"
   ]
  },
  {
   "cell_type": "markdown",
   "metadata": {},
   "source": [
    "### TODO\n",
    "* 다른 구현과 실제 계산값 비교"
   ]
  },
  {
   "cell_type": "markdown",
   "metadata": {},
   "source": [
    "### References"
   ]
  },
  {
   "cell_type": "markdown",
   "metadata": {},
   "source": [
    "* An matlab implementation of DTW by Quan Wang @RPI\n",
    "* https://github.com/dalek7/DTW/blob/master/DDSignal.java"
   ]
  }
 ],
 "metadata": {
  "kernelspec": {
   "display_name": "Python 3",
   "language": "python",
   "name": "python3"
  },
  "language_info": {
   "codemirror_mode": {
    "name": "ipython",
    "version": 3
   },
   "file_extension": ".py",
   "mimetype": "text/x-python",
   "name": "python",
   "nbconvert_exporter": "python",
   "pygments_lexer": "ipython3",
   "version": "3.6.8"
  }
 },
 "nbformat": 4,
 "nbformat_minor": 2
}
